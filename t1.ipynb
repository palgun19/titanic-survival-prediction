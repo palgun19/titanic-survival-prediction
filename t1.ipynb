{
 "cells": [
  {
   "cell_type": "code",
   "execution_count": 1,
   "id": "77c0ae2f",
   "metadata": {
    "_cell_guid": "b1076dfc-b9ad-4769-8c92-a6c4dae69d19",
    "_uuid": "8f2839f25d086af736a60e9eeb907d3b93b6e0e5",
    "execution": {
     "iopub.execute_input": "2023-07-07T12:17:51.796466Z",
     "iopub.status.busy": "2023-07-07T12:17:51.796099Z",
     "iopub.status.idle": "2023-07-07T12:17:51.809160Z",
     "shell.execute_reply": "2023-07-07T12:17:51.808451Z"
    },
    "papermill": {
     "duration": 0.02361,
     "end_time": "2023-07-07T12:17:51.811296",
     "exception": false,
     "start_time": "2023-07-07T12:17:51.787686",
     "status": "completed"
    },
    "tags": []
   },
   "outputs": [
    {
     "name": "stdout",
     "output_type": "stream",
     "text": [
      "/kaggle/input/titanic/train.csv\n",
      "/kaggle/input/titanic/test.csv\n",
      "/kaggle/input/titanic/gender_submission.csv\n"
     ]
    }
   ],
   "source": [
    "# This Python 3 environment comes with many helpful analytics libraries installed\n",
    "# It is defined by the kaggle/python Docker image: https://github.com/kaggle/docker-python\n",
    "# For example, here's several helpful packages to load\n",
    "\n",
    "import numpy as np # linear algebra\n",
    "import pandas as pd # data processing, CSV file I/O (e.g. pd.read_csv)\n",
    "\n",
    "# Input data files are available in the read-only \"../input/\" directory\n",
    "# For example, running this (by clicking run or pressing Shift+Enter) will list all files under the input directory\n",
    "\n",
    "import os\n",
    "for dirname, _, filenames in os.walk('/kaggle/input'):\n",
    "    for filename in filenames:\n",
    "        print(os.path.join(dirname, filename))\n",
    "\n",
    "# You can write up to 20GB to the current directory (/kaggle/working/) that gets preserved as output when you create a version using \"Save & Run All\" \n",
    "# You can also write temporary files to /kaggle/temp/, but they won't be saved outside of the current session"
   ]
  },
  {
   "cell_type": "code",
   "execution_count": 2,
   "id": "b8f088e7",
   "metadata": {
    "execution": {
     "iopub.execute_input": "2023-07-07T12:17:51.825257Z",
     "iopub.status.busy": "2023-07-07T12:17:51.824876Z",
     "iopub.status.idle": "2023-07-07T12:17:51.850864Z",
     "shell.execute_reply": "2023-07-07T12:17:51.850045Z"
    },
    "papermill": {
     "duration": 0.035619,
     "end_time": "2023-07-07T12:17:51.853200",
     "exception": false,
     "start_time": "2023-07-07T12:17:51.817581",
     "status": "completed"
    },
    "tags": []
   },
   "outputs": [],
   "source": [
    "train_data=pd.read_csv('/kaggle/input/titanic/train.csv')"
   ]
  },
  {
   "cell_type": "code",
   "execution_count": 3,
   "id": "e7f7921e",
   "metadata": {
    "execution": {
     "iopub.execute_input": "2023-07-07T12:17:51.867404Z",
     "iopub.status.busy": "2023-07-07T12:17:51.866778Z",
     "iopub.status.idle": "2023-07-07T12:17:51.900346Z",
     "shell.execute_reply": "2023-07-07T12:17:51.899252Z"
    },
    "papermill": {
     "duration": 0.043022,
     "end_time": "2023-07-07T12:17:51.902616",
     "exception": false,
     "start_time": "2023-07-07T12:17:51.859594",
     "status": "completed"
    },
    "tags": []
   },
   "outputs": [
    {
     "data": {
      "text/html": [
       "<div>\n",
       "<style scoped>\n",
       "    .dataframe tbody tr th:only-of-type {\n",
       "        vertical-align: middle;\n",
       "    }\n",
       "\n",
       "    .dataframe tbody tr th {\n",
       "        vertical-align: top;\n",
       "    }\n",
       "\n",
       "    .dataframe thead th {\n",
       "        text-align: right;\n",
       "    }\n",
       "</style>\n",
       "<table border=\"1\" class=\"dataframe\">\n",
       "  <thead>\n",
       "    <tr style=\"text-align: right;\">\n",
       "      <th></th>\n",
       "      <th>PassengerId</th>\n",
       "      <th>Survived</th>\n",
       "      <th>Pclass</th>\n",
       "      <th>Name</th>\n",
       "      <th>Sex</th>\n",
       "      <th>Age</th>\n",
       "      <th>SibSp</th>\n",
       "      <th>Parch</th>\n",
       "      <th>Ticket</th>\n",
       "      <th>Fare</th>\n",
       "      <th>Cabin</th>\n",
       "      <th>Embarked</th>\n",
       "    </tr>\n",
       "  </thead>\n",
       "  <tbody>\n",
       "    <tr>\n",
       "      <th>0</th>\n",
       "      <td>1</td>\n",
       "      <td>0</td>\n",
       "      <td>3</td>\n",
       "      <td>Braund, Mr. Owen Harris</td>\n",
       "      <td>male</td>\n",
       "      <td>22.0</td>\n",
       "      <td>1</td>\n",
       "      <td>0</td>\n",
       "      <td>A/5 21171</td>\n",
       "      <td>7.2500</td>\n",
       "      <td>NaN</td>\n",
       "      <td>S</td>\n",
       "    </tr>\n",
       "    <tr>\n",
       "      <th>1</th>\n",
       "      <td>2</td>\n",
       "      <td>1</td>\n",
       "      <td>1</td>\n",
       "      <td>Cumings, Mrs. John Bradley (Florence Briggs Th...</td>\n",
       "      <td>female</td>\n",
       "      <td>38.0</td>\n",
       "      <td>1</td>\n",
       "      <td>0</td>\n",
       "      <td>PC 17599</td>\n",
       "      <td>71.2833</td>\n",
       "      <td>C85</td>\n",
       "      <td>C</td>\n",
       "    </tr>\n",
       "    <tr>\n",
       "      <th>2</th>\n",
       "      <td>3</td>\n",
       "      <td>1</td>\n",
       "      <td>3</td>\n",
       "      <td>Heikkinen, Miss. Laina</td>\n",
       "      <td>female</td>\n",
       "      <td>26.0</td>\n",
       "      <td>0</td>\n",
       "      <td>0</td>\n",
       "      <td>STON/O2. 3101282</td>\n",
       "      <td>7.9250</td>\n",
       "      <td>NaN</td>\n",
       "      <td>S</td>\n",
       "    </tr>\n",
       "    <tr>\n",
       "      <th>3</th>\n",
       "      <td>4</td>\n",
       "      <td>1</td>\n",
       "      <td>1</td>\n",
       "      <td>Futrelle, Mrs. Jacques Heath (Lily May Peel)</td>\n",
       "      <td>female</td>\n",
       "      <td>35.0</td>\n",
       "      <td>1</td>\n",
       "      <td>0</td>\n",
       "      <td>113803</td>\n",
       "      <td>53.1000</td>\n",
       "      <td>C123</td>\n",
       "      <td>S</td>\n",
       "    </tr>\n",
       "    <tr>\n",
       "      <th>4</th>\n",
       "      <td>5</td>\n",
       "      <td>0</td>\n",
       "      <td>3</td>\n",
       "      <td>Allen, Mr. William Henry</td>\n",
       "      <td>male</td>\n",
       "      <td>35.0</td>\n",
       "      <td>0</td>\n",
       "      <td>0</td>\n",
       "      <td>373450</td>\n",
       "      <td>8.0500</td>\n",
       "      <td>NaN</td>\n",
       "      <td>S</td>\n",
       "    </tr>\n",
       "  </tbody>\n",
       "</table>\n",
       "</div>"
      ],
      "text/plain": [
       "   PassengerId  Survived  Pclass  \\\n",
       "0            1         0       3   \n",
       "1            2         1       1   \n",
       "2            3         1       3   \n",
       "3            4         1       1   \n",
       "4            5         0       3   \n",
       "\n",
       "                                                Name     Sex   Age  SibSp  \\\n",
       "0                            Braund, Mr. Owen Harris    male  22.0      1   \n",
       "1  Cumings, Mrs. John Bradley (Florence Briggs Th...  female  38.0      1   \n",
       "2                             Heikkinen, Miss. Laina  female  26.0      0   \n",
       "3       Futrelle, Mrs. Jacques Heath (Lily May Peel)  female  35.0      1   \n",
       "4                           Allen, Mr. William Henry    male  35.0      0   \n",
       "\n",
       "   Parch            Ticket     Fare Cabin Embarked  \n",
       "0      0         A/5 21171   7.2500   NaN        S  \n",
       "1      0          PC 17599  71.2833   C85        C  \n",
       "2      0  STON/O2. 3101282   7.9250   NaN        S  \n",
       "3      0            113803  53.1000  C123        S  \n",
       "4      0            373450   8.0500   NaN        S  "
      ]
     },
     "execution_count": 3,
     "metadata": {},
     "output_type": "execute_result"
    }
   ],
   "source": [
    "train_data.head()"
   ]
  },
  {
   "cell_type": "code",
   "execution_count": 4,
   "id": "6e550d00",
   "metadata": {
    "execution": {
     "iopub.execute_input": "2023-07-07T12:17:51.916962Z",
     "iopub.status.busy": "2023-07-07T12:17:51.916587Z",
     "iopub.status.idle": "2023-07-07T12:17:51.928461Z",
     "shell.execute_reply": "2023-07-07T12:17:51.927473Z"
    },
    "papermill": {
     "duration": 0.021719,
     "end_time": "2023-07-07T12:17:51.930873",
     "exception": false,
     "start_time": "2023-07-07T12:17:51.909154",
     "status": "completed"
    },
    "tags": []
   },
   "outputs": [],
   "source": [
    "women=train_data.loc[train_data.Sex=='female']['Survived']"
   ]
  },
  {
   "cell_type": "code",
   "execution_count": 5,
   "id": "4d9a7f67",
   "metadata": {
    "execution": {
     "iopub.execute_input": "2023-07-07T12:17:51.945721Z",
     "iopub.status.busy": "2023-07-07T12:17:51.945346Z",
     "iopub.status.idle": "2023-07-07T12:17:51.950014Z",
     "shell.execute_reply": "2023-07-07T12:17:51.948983Z"
    },
    "papermill": {
     "duration": 0.014953,
     "end_time": "2023-07-07T12:17:51.952458",
     "exception": false,
     "start_time": "2023-07-07T12:17:51.937505",
     "status": "completed"
    },
    "tags": []
   },
   "outputs": [],
   "source": [
    "women_rate=sum(women)/len(women)"
   ]
  },
  {
   "cell_type": "code",
   "execution_count": 6,
   "id": "fab8bee2",
   "metadata": {
    "execution": {
     "iopub.execute_input": "2023-07-07T12:17:51.967929Z",
     "iopub.status.busy": "2023-07-07T12:17:51.967167Z",
     "iopub.status.idle": "2023-07-07T12:17:51.973094Z",
     "shell.execute_reply": "2023-07-07T12:17:51.972380Z"
    },
    "papermill": {
     "duration": 0.016404,
     "end_time": "2023-07-07T12:17:51.975382",
     "exception": false,
     "start_time": "2023-07-07T12:17:51.958978",
     "status": "completed"
    },
    "tags": []
   },
   "outputs": [],
   "source": [
    "men=train_data.loc[train_data.Sex=='male']['Survived']"
   ]
  },
  {
   "cell_type": "code",
   "execution_count": 7,
   "id": "00ffc2dd",
   "metadata": {
    "execution": {
     "iopub.execute_input": "2023-07-07T12:17:51.992052Z",
     "iopub.status.busy": "2023-07-07T12:17:51.991469Z",
     "iopub.status.idle": "2023-07-07T12:17:51.996092Z",
     "shell.execute_reply": "2023-07-07T12:17:51.995368Z"
    },
    "papermill": {
     "duration": 0.014718,
     "end_time": "2023-07-07T12:17:51.998215",
     "exception": false,
     "start_time": "2023-07-07T12:17:51.983497",
     "status": "completed"
    },
    "tags": []
   },
   "outputs": [],
   "source": [
    "men_rate=sum(men)/len(men)"
   ]
  },
  {
   "cell_type": "code",
   "execution_count": 8,
   "id": "20493473",
   "metadata": {
    "execution": {
     "iopub.execute_input": "2023-07-07T12:17:52.013711Z",
     "iopub.status.busy": "2023-07-07T12:17:52.013068Z",
     "iopub.status.idle": "2023-07-07T12:17:53.725663Z",
     "shell.execute_reply": "2023-07-07T12:17:53.724480Z"
    },
    "papermill": {
     "duration": 1.723747,
     "end_time": "2023-07-07T12:17:53.728656",
     "exception": false,
     "start_time": "2023-07-07T12:17:52.004909",
     "status": "completed"
    },
    "tags": []
   },
   "outputs": [],
   "source": [
    "from sklearn.ensemble import RandomForestClassifier"
   ]
  },
  {
   "cell_type": "code",
   "execution_count": 9,
   "id": "645c7fd1",
   "metadata": {
    "execution": {
     "iopub.execute_input": "2023-07-07T12:17:53.744491Z",
     "iopub.status.busy": "2023-07-07T12:17:53.744057Z",
     "iopub.status.idle": "2023-07-07T12:17:53.749280Z",
     "shell.execute_reply": "2023-07-07T12:17:53.748170Z"
    },
    "papermill": {
     "duration": 0.016093,
     "end_time": "2023-07-07T12:17:53.751634",
     "exception": false,
     "start_time": "2023-07-07T12:17:53.735541",
     "status": "completed"
    },
    "tags": []
   },
   "outputs": [],
   "source": [
    "y=train_data['Survived']"
   ]
  },
  {
   "cell_type": "code",
   "execution_count": 10,
   "id": "e953b5e9",
   "metadata": {
    "execution": {
     "iopub.execute_input": "2023-07-07T12:17:53.766631Z",
     "iopub.status.busy": "2023-07-07T12:17:53.766276Z",
     "iopub.status.idle": "2023-07-07T12:17:53.770666Z",
     "shell.execute_reply": "2023-07-07T12:17:53.769620Z"
    },
    "papermill": {
     "duration": 0.014716,
     "end_time": "2023-07-07T12:17:53.772981",
     "exception": false,
     "start_time": "2023-07-07T12:17:53.758265",
     "status": "completed"
    },
    "tags": []
   },
   "outputs": [],
   "source": [
    "features=['Sex','Parch','Pclass','SibSp']"
   ]
  },
  {
   "cell_type": "code",
   "execution_count": 11,
   "id": "784e1d80",
   "metadata": {
    "execution": {
     "iopub.execute_input": "2023-07-07T12:17:53.787628Z",
     "iopub.status.busy": "2023-07-07T12:17:53.787304Z",
     "iopub.status.idle": "2023-07-07T12:17:53.799427Z",
     "shell.execute_reply": "2023-07-07T12:17:53.798665Z"
    },
    "papermill": {
     "duration": 0.0219,
     "end_time": "2023-07-07T12:17:53.801504",
     "exception": false,
     "start_time": "2023-07-07T12:17:53.779604",
     "status": "completed"
    },
    "tags": []
   },
   "outputs": [],
   "source": [
    "x=pd.get_dummies(train_data[features])"
   ]
  },
  {
   "cell_type": "code",
   "execution_count": 12,
   "id": "2ffbc865",
   "metadata": {
    "execution": {
     "iopub.execute_input": "2023-07-07T12:17:53.816592Z",
     "iopub.status.busy": "2023-07-07T12:17:53.815666Z",
     "iopub.status.idle": "2023-07-07T12:17:53.830197Z",
     "shell.execute_reply": "2023-07-07T12:17:53.829445Z"
    },
    "papermill": {
     "duration": 0.024301,
     "end_time": "2023-07-07T12:17:53.832409",
     "exception": false,
     "start_time": "2023-07-07T12:17:53.808108",
     "status": "completed"
    },
    "tags": []
   },
   "outputs": [],
   "source": [
    "test_data=pd.read_csv('/kaggle/input/titanic/test.csv')\n",
    "xtest=pd.get_dummies(test_data[features])"
   ]
  },
  {
   "cell_type": "code",
   "execution_count": 13,
   "id": "a93bc729",
   "metadata": {
    "execution": {
     "iopub.execute_input": "2023-07-07T12:17:53.847935Z",
     "iopub.status.busy": "2023-07-07T12:17:53.847295Z",
     "iopub.status.idle": "2023-07-07T12:17:53.851709Z",
     "shell.execute_reply": "2023-07-07T12:17:53.850956Z"
    },
    "papermill": {
     "duration": 0.014202,
     "end_time": "2023-07-07T12:17:53.853677",
     "exception": false,
     "start_time": "2023-07-07T12:17:53.839475",
     "status": "completed"
    },
    "tags": []
   },
   "outputs": [],
   "source": [
    "model=RandomForestClassifier(max_depth=70,n_estimators=400,random_state=0)"
   ]
  },
  {
   "cell_type": "code",
   "execution_count": 14,
   "id": "41df91f8",
   "metadata": {
    "execution": {
     "iopub.execute_input": "2023-07-07T12:17:53.868264Z",
     "iopub.status.busy": "2023-07-07T12:17:53.867871Z",
     "iopub.status.idle": "2023-07-07T12:17:54.848352Z",
     "shell.execute_reply": "2023-07-07T12:17:54.847304Z"
    },
    "papermill": {
     "duration": 0.990903,
     "end_time": "2023-07-07T12:17:54.851066",
     "exception": false,
     "start_time": "2023-07-07T12:17:53.860163",
     "status": "completed"
    },
    "tags": []
   },
   "outputs": [
    {
     "data": {
      "text/html": [
       "<style>#sk-container-id-1 {color: black;background-color: white;}#sk-container-id-1 pre{padding: 0;}#sk-container-id-1 div.sk-toggleable {background-color: white;}#sk-container-id-1 label.sk-toggleable__label {cursor: pointer;display: block;width: 100%;margin-bottom: 0;padding: 0.3em;box-sizing: border-box;text-align: center;}#sk-container-id-1 label.sk-toggleable__label-arrow:before {content: \"▸\";float: left;margin-right: 0.25em;color: #696969;}#sk-container-id-1 label.sk-toggleable__label-arrow:hover:before {color: black;}#sk-container-id-1 div.sk-estimator:hover label.sk-toggleable__label-arrow:before {color: black;}#sk-container-id-1 div.sk-toggleable__content {max-height: 0;max-width: 0;overflow: hidden;text-align: left;background-color: #f0f8ff;}#sk-container-id-1 div.sk-toggleable__content pre {margin: 0.2em;color: black;border-radius: 0.25em;background-color: #f0f8ff;}#sk-container-id-1 input.sk-toggleable__control:checked~div.sk-toggleable__content {max-height: 200px;max-width: 100%;overflow: auto;}#sk-container-id-1 input.sk-toggleable__control:checked~label.sk-toggleable__label-arrow:before {content: \"▾\";}#sk-container-id-1 div.sk-estimator input.sk-toggleable__control:checked~label.sk-toggleable__label {background-color: #d4ebff;}#sk-container-id-1 div.sk-label input.sk-toggleable__control:checked~label.sk-toggleable__label {background-color: #d4ebff;}#sk-container-id-1 input.sk-hidden--visually {border: 0;clip: rect(1px 1px 1px 1px);clip: rect(1px, 1px, 1px, 1px);height: 1px;margin: -1px;overflow: hidden;padding: 0;position: absolute;width: 1px;}#sk-container-id-1 div.sk-estimator {font-family: monospace;background-color: #f0f8ff;border: 1px dotted black;border-radius: 0.25em;box-sizing: border-box;margin-bottom: 0.5em;}#sk-container-id-1 div.sk-estimator:hover {background-color: #d4ebff;}#sk-container-id-1 div.sk-parallel-item::after {content: \"\";width: 100%;border-bottom: 1px solid gray;flex-grow: 1;}#sk-container-id-1 div.sk-label:hover label.sk-toggleable__label {background-color: #d4ebff;}#sk-container-id-1 div.sk-serial::before {content: \"\";position: absolute;border-left: 1px solid gray;box-sizing: border-box;top: 0;bottom: 0;left: 50%;z-index: 0;}#sk-container-id-1 div.sk-serial {display: flex;flex-direction: column;align-items: center;background-color: white;padding-right: 0.2em;padding-left: 0.2em;position: relative;}#sk-container-id-1 div.sk-item {position: relative;z-index: 1;}#sk-container-id-1 div.sk-parallel {display: flex;align-items: stretch;justify-content: center;background-color: white;position: relative;}#sk-container-id-1 div.sk-item::before, #sk-container-id-1 div.sk-parallel-item::before {content: \"\";position: absolute;border-left: 1px solid gray;box-sizing: border-box;top: 0;bottom: 0;left: 50%;z-index: -1;}#sk-container-id-1 div.sk-parallel-item {display: flex;flex-direction: column;z-index: 1;position: relative;background-color: white;}#sk-container-id-1 div.sk-parallel-item:first-child::after {align-self: flex-end;width: 50%;}#sk-container-id-1 div.sk-parallel-item:last-child::after {align-self: flex-start;width: 50%;}#sk-container-id-1 div.sk-parallel-item:only-child::after {width: 0;}#sk-container-id-1 div.sk-dashed-wrapped {border: 1px dashed gray;margin: 0 0.4em 0.5em 0.4em;box-sizing: border-box;padding-bottom: 0.4em;background-color: white;}#sk-container-id-1 div.sk-label label {font-family: monospace;font-weight: bold;display: inline-block;line-height: 1.2em;}#sk-container-id-1 div.sk-label-container {text-align: center;}#sk-container-id-1 div.sk-container {/* jupyter's `normalize.less` sets `[hidden] { display: none; }` but bootstrap.min.css set `[hidden] { display: none !important; }` so we also need the `!important` here to be able to override the default hidden behavior on the sphinx rendered scikit-learn.org. See: https://github.com/scikit-learn/scikit-learn/issues/21755 */display: inline-block !important;position: relative;}#sk-container-id-1 div.sk-text-repr-fallback {display: none;}</style><div id=\"sk-container-id-1\" class=\"sk-top-container\"><div class=\"sk-text-repr-fallback\"><pre>RandomForestClassifier(max_depth=70, n_estimators=400, random_state=0)</pre><b>In a Jupyter environment, please rerun this cell to show the HTML representation or trust the notebook. <br />On GitHub, the HTML representation is unable to render, please try loading this page with nbviewer.org.</b></div><div class=\"sk-container\" hidden><div class=\"sk-item\"><div class=\"sk-estimator sk-toggleable\"><input class=\"sk-toggleable__control sk-hidden--visually\" id=\"sk-estimator-id-1\" type=\"checkbox\" checked><label for=\"sk-estimator-id-1\" class=\"sk-toggleable__label sk-toggleable__label-arrow\">RandomForestClassifier</label><div class=\"sk-toggleable__content\"><pre>RandomForestClassifier(max_depth=70, n_estimators=400, random_state=0)</pre></div></div></div></div></div>"
      ],
      "text/plain": [
       "RandomForestClassifier(max_depth=70, n_estimators=400, random_state=0)"
      ]
     },
     "execution_count": 14,
     "metadata": {},
     "output_type": "execute_result"
    }
   ],
   "source": [
    "model.fit(x,y)"
   ]
  },
  {
   "cell_type": "code",
   "execution_count": 15,
   "id": "ef1e218b",
   "metadata": {
    "execution": {
     "iopub.execute_input": "2023-07-07T12:17:54.866309Z",
     "iopub.status.busy": "2023-07-07T12:17:54.865930Z",
     "iopub.status.idle": "2023-07-07T12:17:54.962875Z",
     "shell.execute_reply": "2023-07-07T12:17:54.961881Z"
    },
    "papermill": {
     "duration": 0.107275,
     "end_time": "2023-07-07T12:17:54.965238",
     "exception": false,
     "start_time": "2023-07-07T12:17:54.857963",
     "status": "completed"
    },
    "tags": []
   },
   "outputs": [
    {
     "data": {
      "text/plain": [
       "0.8170594837261503"
      ]
     },
     "execution_count": 15,
     "metadata": {},
     "output_type": "execute_result"
    }
   ],
   "source": [
    "model.score(x,y)"
   ]
  },
  {
   "cell_type": "code",
   "execution_count": 16,
   "id": "1f30eec4",
   "metadata": {
    "execution": {
     "iopub.execute_input": "2023-07-07T12:17:54.980435Z",
     "iopub.status.busy": "2023-07-07T12:17:54.980086Z",
     "iopub.status.idle": "2023-07-07T12:17:55.054135Z",
     "shell.execute_reply": "2023-07-07T12:17:55.053236Z"
    },
    "papermill": {
     "duration": 0.084402,
     "end_time": "2023-07-07T12:17:55.056664",
     "exception": false,
     "start_time": "2023-07-07T12:17:54.972262",
     "status": "completed"
    },
    "tags": []
   },
   "outputs": [],
   "source": [
    "output=pd.DataFrame({'PassengerId': test_data.PassengerId,'Survived':model.predict(xtest)})"
   ]
  },
  {
   "cell_type": "code",
   "execution_count": 17,
   "id": "9e9b6d48",
   "metadata": {
    "execution": {
     "iopub.execute_input": "2023-07-07T12:17:55.072188Z",
     "iopub.status.busy": "2023-07-07T12:17:55.071778Z",
     "iopub.status.idle": "2023-07-07T12:17:55.085363Z",
     "shell.execute_reply": "2023-07-07T12:17:55.083713Z"
    },
    "papermill": {
     "duration": 0.024582,
     "end_time": "2023-07-07T12:17:55.088347",
     "exception": false,
     "start_time": "2023-07-07T12:17:55.063765",
     "status": "completed"
    },
    "tags": []
   },
   "outputs": [],
   "source": [
    "output.to_csv('my_submission',index=False)"
   ]
  },
  {
   "cell_type": "code",
   "execution_count": null,
   "id": "3d7794c6",
   "metadata": {
    "papermill": {
     "duration": 0.006673,
     "end_time": "2023-07-07T12:17:55.101876",
     "exception": false,
     "start_time": "2023-07-07T12:17:55.095203",
     "status": "completed"
    },
    "tags": []
   },
   "outputs": [],
   "source": []
  }
 ],
 "metadata": {
  "kernelspec": {
   "display_name": "Python 3",
   "language": "python",
   "name": "python3"
  },
  "language_info": {
   "codemirror_mode": {
    "name": "ipython",
    "version": 3
   },
   "file_extension": ".py",
   "mimetype": "text/x-python",
   "name": "python",
   "nbconvert_exporter": "python",
   "pygments_lexer": "ipython3",
   "version": "3.10.10"
  },
  "papermill": {
   "default_parameters": {},
   "duration": 15.843248,
   "end_time": "2023-07-07T12:17:56.030669",
   "environment_variables": {},
   "exception": null,
   "input_path": "__notebook__.ipynb",
   "output_path": "__notebook__.ipynb",
   "parameters": {},
   "start_time": "2023-07-07T12:17:40.187421",
   "version": "2.4.0"
  }
 },
 "nbformat": 4,
 "nbformat_minor": 5
}
